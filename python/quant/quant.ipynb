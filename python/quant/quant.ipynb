{
 "cells": [
  {
   "cell_type": "code",
   "execution_count": 27,
   "metadata": {},
   "outputs": [],
   "source": [
    "import pandas as pd\n",
    "import yfinance as yf\n",
    "import datetime\n",
    "sp500 = pd.read_html('https://en.wikipedia.org/wiki/List_of_S%26P_500_companies')[0]"
   ]
  },
  {
   "cell_type": "code",
   "execution_count": 47,
   "metadata": {},
   "outputs": [],
   "source": [
    "for symbol in sp500['Symbol']:\n",
    "    if \".\" in symbol:\n",
    "        print(symbol)\n",
    "\n",
    "# Change these values\n",
    "sp500['Symbol'] = sp500['Symbol'].str.replace('.','-')\n",
    "\n",
    "ticker = list(sp500['Symbol'])"
   ]
  },
  {
   "cell_type": "code",
   "execution_count": 48,
   "metadata": {},
   "outputs": [
    {
     "name": "stderr",
     "output_type": "stream",
     "text": [
      "[*********************100%***********************]  503 of 503 completed\n"
     ]
    }
   ],
   "source": [
    "end_date = datetime.datetime.now()\n",
    "start_date = pd.to_datetime(end_date)-pd.DateOffset(365*8)\n",
    "\n",
    "df = yf.download(tickers = ticker,\n",
    "                 start= start_date,\n",
    "                 end= end_date)"
   ]
  },
  {
   "cell_type": "code",
   "execution_count": 53,
   "metadata": {},
   "outputs": [],
   "source": [
    "# modify names n dat\n",
    "data = df.stack()\n",
    "data.index.names = ['date', 'ticker']\n",
    "data.columns = data.columns.str.lower()"
   ]
  },
  {
   "cell_type": "markdown",
   "metadata": {},
   "source": [
    "# **Calculate features and technical indicators for each stock**"
   ]
  },
  {
   "cell_type": "markdown",
   "metadata": {
    "vscode": {
     "languageId": "latex"
    }
   },
   "source": [
    "### Garman-Klass Volatility Formula\n",
    "\n",
    "$\\frac{ln(High)-ln()}{}\n"
   ]
  }
 ],
 "metadata": {
  "kernelspec": {
   "display_name": "Python 3",
   "language": "python",
   "name": "python3"
  },
  "language_info": {
   "codemirror_mode": {
    "name": "ipython",
    "version": 3
   },
   "file_extension": ".py",
   "mimetype": "text/x-python",
   "name": "python",
   "nbconvert_exporter": "python",
   "pygments_lexer": "ipython3",
   "version": "3.11.5"
  }
 },
 "nbformat": 4,
 "nbformat_minor": 2
}
